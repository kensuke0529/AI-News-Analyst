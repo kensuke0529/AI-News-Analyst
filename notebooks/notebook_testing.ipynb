{
 "cells": [
  {
   "cell_type": "code",
   "execution_count": 5,
   "id": "87119e67",
   "metadata": {},
   "outputs": [],
   "source": [
    "techmeme_rss = \"https://www.techmeme.com/feed.xml\"\n"
   ]
  },
  {
   "cell_type": "code",
   "execution_count": 54,
   "id": "13dac55c",
   "metadata": {},
   "outputs": [],
   "source": [
    "import requests\n",
    "import xml.etree.ElementTree as ET\n",
    "from datetime import datetime\n",
    "from bs4 import BeautifulSoup\n",
    "import warnings\n",
    "import urllib3\n",
    "import os\n",
    "from langchain_text_splitters import RecursiveCharacterTextSplitter\n",
    "from langchain_openai import OpenAIEmbeddings\n",
    "from langchain_chroma import Chroma\n",
    "from langchain.schema import Document\n",
    "import os\n",
    "from dotenv import load_dotenv\n",
    "\n",
    "def parse_techmeme_rss():\n",
    "    try:\n",
    "        response = requests.get(\"https://www.techmeme.com/feed.xml\")\n",
    "        root = ET.fromstring(response.content)\n",
    "        \n",
    "        articles = []\n",
    "        for item in root.findall('.//item'):\n",
    "            title = item.find('title').text if item.find('title') is not None else \"No title\"\n",
    "            link = item.find('link').text if item.find('link') is not None else \"No link\"\n",
    "            description = item.find('description').text if item.find('description') is not None else \"No description\"\n",
    "            pub_date = item.find('pubDate').text if item.find('pubDate') is not None else \"No date\"\n",
    "            \n",
    "            articles.append({\n",
    "                'title': title,\n",
    "                'link': link,\n",
    "                'description': description,\n",
    "                'pub_date': pub_date\n",
    "            })\n",
    "        \n",
    "        return articles\n",
    "    \n",
    "    except Exception as e:\n",
    "        print(f\"Error parsing RSS: {e}\")\n",
    "        return []"
   ]
  },
  {
   "cell_type": "code",
   "execution_count": 23,
   "id": "45195f02",
   "metadata": {},
   "outputs": [
    {
     "name": "stdout",
     "output_type": "stream",
     "text": [
      "Successfully parsed 15 articles from Techmeme RSS feed\n"
     ]
    }
   ],
   "source": [
    "articles = parse_techmeme_rss()\n",
    "print(f\"Successfully parsed {len(articles)} articles from Techmeme RSS feed\")"
   ]
  },
  {
   "cell_type": "code",
   "execution_count": 30,
   "id": "de33edff",
   "metadata": {},
   "outputs": [
    {
     "data": {
      "text/plain": [
       "'<A HREF=\"https://www.cnbc.com/2025/09/30/scorability-wants-to-revolutionize-college-sports-recruiting-as-nil-takes-off.html\"><IMG VSPACE=\"4\" HSPACE=\"4\" BORDER=\"0\" ALIGN=\"RIGHT\" SRC=\"http://www.techmeme.com/251005/i20.jpg\"></A>\\n<P><A HREF=\"http://www.techmeme.com/251005/p20#a251005p20\" TITLE=\"Techmeme permalink\"><IMG WIDTH=11 HEIGHT=12 SRC=\"http://www.techmeme.com/img/pml.png\" STYLE=\"border:none;padding:0;margin:0;\"></A> Jessica Golden / <A HREF=\"http://www.cnbc.com/\">CNBC</A>:<BR>\\n<SPAN STYLE=\"font-size:1.3em;\"><B><A HREF=\"https://www.cnbc.com/2025/09/30/scorability-wants-to-revolutionize-college-sports-recruiting-as-nil-takes-off.html\">Scorability, a college sports recruiting marketplace for athletes and coaches, raised $40M led by Bluestone Equity Partners, bringing its total funding to $51M</A></B></SPAN>&nbsp; &mdash;&nbsp; Sports tech platform Scorability has raised $40 million in fresh funding as the company looks to modernize college sports recruiting, the company announced on Tuesday.</P>\\n'"
      ]
     },
     "execution_count": 30,
     "metadata": {},
     "output_type": "execute_result"
    }
   ],
   "source": [
    "articles[0]['description']"
   ]
  },
  {
   "cell_type": "code",
   "execution_count": 31,
   "id": "901d9225",
   "metadata": {},
   "outputs": [
    {
     "data": {
      "text/plain": [
       "'\\n Jessica Golden / CNBC:\\nScorability, a college sports recruiting marketplace for athletes and coaches, raised $40M led by Bluestone Equity Partners, bringing its total funding to $51M\\xa0 —\\xa0 Sports tech platform Scorability has raised $40 million in fresh funding as the company looks to modernize college sports recruiting, the company announced on Tuesday.\\n'"
      ]
     },
     "execution_count": 31,
     "metadata": {},
     "output_type": "execute_result"
    }
   ],
   "source": [
    "from bs4 import BeautifulSoup\n",
    "\n",
    "soup = BeautifulSoup(articles[0]['description'], \"html.parser\")\n",
    "text = soup.get_text()\n",
    "text"
   ]
  },
  {
   "cell_type": "code",
   "execution_count": 41,
   "id": "b33cd8d8",
   "metadata": {},
   "outputs": [],
   "source": [
    "def get_text():\n",
    "    articles = parse_techmeme_rss()\n",
    "    for i in range(len(articles)):\n",
    "        soup = BeautifulSoup(articles[i]['description'], \"html.parser\")\n",
    "        text = soup.get_text()\n",
    "        articles[i]['description'] = text\n",
    "    return articles"
   ]
  },
  {
   "cell_type": "code",
   "execution_count": 44,
   "id": "9b2c05ad",
   "metadata": {},
   "outputs": [
    {
     "data": {
      "text/plain": [
       "{'title': 'Scorability, a college sports recruiting marketplace for athletes and coaches, raised $40M led by Bluestone Equity Partners, bringing its total funding to $51M (Jessica Golden/CNBC)',\n",
       " 'link': 'http://www.techmeme.com/251005/p20#a251005p20',\n",
       " 'description': '\\n Jessica Golden / CNBC:\\nScorability, a college sports recruiting marketplace for athletes and coaches, raised $40M led by Bluestone Equity Partners, bringing its total funding to $51M\\xa0 —\\xa0 Sports tech platform Scorability has raised $40 million in fresh funding as the company looks to modernize college sports recruiting, the company announced on Tuesday.\\n',\n",
       " 'pub_date': 'Sun, 05 Oct 2025 18:30:01 -0400'}"
      ]
     },
     "execution_count": 44,
     "metadata": {},
     "output_type": "execute_result"
    }
   ],
   "source": [
    "get_text()[0]"
   ]
  },
  {
   "cell_type": "code",
   "execution_count": null,
   "id": "42cd4d7a",
   "metadata": {},
   "outputs": [],
   "source": [
    "load_dotenv()\n",
    "openai_api_key = os.environ[\"OPENAI_API_KEY\"]\n",
    "embedding_model = OpenAIEmbeddings(api_key=openai_api_key, model=\"text-embedding-3-small\")\n",
    "\n",
    "def Embedding_news():\n",
    "    articles = get_text()\n",
    "    splitter = RecursiveCharacterTextSplitter(\n",
    "        separators=[\"\\n\\n\", \"\\n\", \" \", \"\"],\n",
    "        chunk_size=100,\n",
    "        chunk_overlap=10\n",
    "    )\n",
    "\n",
    "    all_docs = []\n",
    "\n",
    "    for article in articles:\n",
    "        news_content = f\"Title: {article['title']}, Content: {article['description']}\"\n",
    "        chunks = splitter.split_text(news_content)\n",
    "\n",
    "        doc_objs = [\n",
    "            Document(\n",
    "                page_content=chunk,\n",
    "                metadata={\n",
    "                    \"title\": article[\"title\"],\n",
    "                    \"link\": article[\"link\"],\n",
    "                    \"pub_date\": article[\"pub_date\"]\n",
    "                }\n",
    "            )\n",
    "            for chunk in chunks\n",
    "        ]\n",
    "\n",
    "        all_docs.extend(doc_objs)\n",
    "\n",
    "    vector_store = Chroma.from_documents(\n",
    "        documents=all_docs,\n",
    "        embedding=embedding_model\n",
    "    )\n",
    "\n",
    "    return vector_store"
   ]
  },
  {
   "cell_type": "code",
   "execution_count": 56,
   "id": "4725ef32",
   "metadata": {},
   "outputs": [
    {
     "name": "stderr",
     "output_type": "stream",
     "text": [
      "/Users/kensukeumamoshi/miniconda3/lib/python3.13/site-packages/wikipedia/wikipedia.py:389: GuessedAtParserWarning: No parser was explicitly specified, so I'm using the best available HTML parser for this system (\"html.parser\"). This usually isn't a problem, but if you run this code on another system, or in a different virtual environment, it may use a different parser and behave differently.\n",
      "\n",
      "The code that caused this warning is on line 389 of the file /Users/kensukeumamoshi/miniconda3/lib/python3.13/site-packages/wikipedia/wikipedia.py. To get rid of this warning, pass the additional argument 'features=\"html.parser\"' to the BeautifulSoup constructor.\n",
      "\n",
      "  lis = BeautifulSoup(html).find_all('li')\n"
     ]
    },
    {
     "data": {
      "text/plain": [
       "'Page: Burn the Witch (manga)\\nSummary: Burn the Witch (stylized as BURN ☩HE WITCH) is a Japanese manga series written and illustrated by Tite Kubo. It was first published in Shueisha\\'s Weekly Shōnen Jump as a one-shot chapter in July 2018. A serialized continuation of the one-shot is being published in the same magazine with a seasonal release schedule. The four-chapter first season was published from August to September 2020. A second season of the manga has been announced. The series\\' title comes from a 2016 song by the English band Radiohead.\\nAn anime film produced by Studio Colorido premiered in October 2020. A television film adaptation of the prologue chapter, Burn the Witch #0.8, premiered in December 2023.\\n\\n\\n\\nPage: Burn the Witch (Radiohead song)\\nSummary: \"Burn the Witch\" is a song by the English rock band Radiohead, released as the lead single from their ninth studio album, A Moon Shaped Pool (2016). It features a string section playing with guitar plectrums, producing a percussive sound, with lyrics warning against groupthink and authoritarianism. Radiohead first worked on the song during the sessions for their fourth album, Kid A (2000).\\n\"Burn the Witch\" was released as a download on 3 May 2016 on Radiohead\\'s website, followed by 7-inch single released exclusively in independent record stores later that month. It was accompanied by a stop-motion animated music video that pays homage to the 1960s children\\'s television series Trumptonshire and the 1973 horror film The Wicker Man. \\n\"Burn the Witch\" was named one of the best songs of 2016 by Rolling Stone, Billboard and the Village Voice, and was nominated for Best Rock Song at the 59th Annual Grammy Awards. It was one of year\\'s bestselling vinyl singles in the UK.'"
      ]
     },
     "execution_count": 56,
     "metadata": {},
     "output_type": "execute_result"
    }
   ],
   "source": [
    "from langchain_community.tools import WikipediaQueryRun\n",
    "from langchain_community.utilities import WikipediaAPIWrapper\n",
    "\n",
    "\n",
    "wikipedia = WikipediaQueryRun(api_wrapper=WikipediaAPIWrapper())\n",
    "wikipedia.run('burn the witch')"
   ]
  },
  {
   "cell_type": "code",
   "execution_count": 4,
   "id": "f87df9d9",
   "metadata": {},
   "outputs": [
    {
     "data": {
      "image/png": "[encoded data removed]",
      "text/plain": [
       "<IPython.core.display.Image object>"
      ]
     },
     "metadata": {},
     "output_type": "display_data"
    },
    {
     "name": "stdout",
     "output_type": "stream",
     "text": [
      "✅ LangGraph visualization generated successfully!\n"
     ]
    }
   ],
   "source": [
    "# LangGraph Built-in Visualization\n",
    "# This uses the actual graph object from your graph.py file\n",
    "\n",
    "from graph import app\n",
    "from IPython.display import Image, display\n",
    "\n",
    "# Display the LangGraph diagram using the built-in visualization\n",
    "try:\n",
    "    # Get the graph visualization\n",
    "    graph_image = app.get_graph().draw_mermaid_png()\n",
    "    display(Image(graph_image))\n",
    "    print(\"✅ LangGraph visualization generated successfully!\")\n",
    "except Exception as e:\n",
    "    print(f\"❌ Error generating graph diagram: {e}\")\n",
    "    print(\"Make sure you have the required dependencies installed:\")\n",
    "    print(\"pip install langgraph\")"
   ]
  }
 ],
 "metadata": {
  "kernelspec": {
   "display_name": "base",
   "language": "python",
   "name": "python3"
  },
  "language_info": {
   "codemirror_mode": {
    "name": "ipython",
    "version": 3
   },
   "file_extension": ".py",
   "mimetype": "text/x-python",
   "name": "python",
   "nbconvert_exporter": "python",
   "pygments_lexer": "ipython3",
   "version": "3.13.5"
  }
 },
 "nbformat": 4,
 "nbformat_minor": 5
}
